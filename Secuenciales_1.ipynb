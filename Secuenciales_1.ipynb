{
 "cells": [
  {
   "cell_type": "code",
   "execution_count": null,
   "id": "cdbb00cc",
   "metadata": {},
   "outputs": [
    {
     "name": "stdout",
     "output_type": "stream",
     "text": [
      "Hola Mundo!\n"
     ]
    }
   ],
   "source": [
    "#1) Crear un programa que imprima por pantalla el mensaje: “Hola Mundo!”.\n",
    "\n",
    "print (\"Hola Mundo!\")"
   ]
  },
  {
   "cell_type": "code",
   "execution_count": null,
   "id": "7775f64f",
   "metadata": {},
   "outputs": [
    {
     "name": "stdout",
     "output_type": "stream",
     "text": [
      "Hola Marcos!\n"
     ]
    }
   ],
   "source": [
    "#2) Crear un programa que pida al usuario su nombre e imprima por pantalla un saludo usando el nombre ingresado. \n",
    "\n",
    "nombre = input(\"Ingrese su nombre: \")\n",
    "print (f\"Hola {nombre}!\")"
   ]
  },
  {
   "cell_type": "code",
   "execution_count": null,
   "id": "2fdffccd",
   "metadata": {},
   "outputs": [
    {
     "name": "stdout",
     "output_type": "stream",
     "text": [
      "Soy Marcos Perez, tengo 30 años y vivo en Argentina.\n"
     ]
    }
   ],
   "source": [
    "#3) Crear un programa que pida al usuario su nombre, apellido, edad y lugar de residencia e imprima por pantalla una oración con los datos ingresados.\n",
    "\n",
    "nombre = input(\"Ingrese su nombre: \")\n",
    "apellido = input(\"Ingrese su apellido: \")\n",
    "edad = input(\"Ingrese su edad: \")\n",
    "pais = input (\"Lugar de residencia: \")\n",
    "print (f\"Soy {nombre} {apellido}, tengo {edad} años y vivo en {pais}.\")"
   ]
  },
  {
   "cell_type": "code",
   "execution_count": 1,
   "id": "741da83d",
   "metadata": {},
   "outputs": [
    {
     "name": "stdout",
     "output_type": "stream",
     "text": [
      "Área del círculo: 12.56\n",
      "Perímetro del círculo: 12.56\n"
     ]
    }
   ],
   "source": [
    "#4) Crear un programa que pida al usuario el radio de un círculo e imprima por pantalla su área y su perímetro.\n",
    "\n",
    "radio = float(input(\"Ingresa el radio del circulo: \" ))\n",
    "\n",
    "area = 3.14 * radio ** 2\n",
    "perimetro = 2 * 3.14 * radio\n",
    "\n",
    "print(f\"Área del círculo: {area}\")\n",
    "print(f\"Perímetro del círculo: {perimetro}\")\n"
   ]
  },
  {
   "cell_type": "code",
   "execution_count": 5,
   "id": "017312b9",
   "metadata": {},
   "outputs": [
    {
     "name": "stdout",
     "output_type": "stream",
     "text": [
      "Los 7200 segundos ingresados equivalen a 2 horas.\n"
     ]
    }
   ],
   "source": [
    "#5) Crear un programa que pida al usuario una cantidad de segundos e imprima por pantalla a cuántas horas equivale.\n",
    "\n",
    "segundos = int(input(\"Ingrese una cantidad de segundos: \"))\n",
    "hora = int(segundos/3600)\n",
    "\n",
    "print (f\"Los {segundos} segundos ingresados equivalen a {hora} horas.\")"
   ]
  },
  {
   "cell_type": "code",
   "execution_count": 1,
   "id": "7f99bede",
   "metadata": {},
   "outputs": [
    {
     "name": "stdout",
     "output_type": "stream",
     "text": [
      "\n",
      "Tabla de multiplicar del 2:\n",
      "\n",
      "2 x 1 = 2\n",
      "2 x 2 = 4\n",
      "2 x 3 = 6\n",
      "2 x 4 = 8\n",
      "2 x 5 = 10\n",
      "2 x 6 = 12\n",
      "2 x 7 = 14\n",
      "2 x 8 = 16\n",
      "2 x 9 = 18\n",
      "2 x 10 = 20\n"
     ]
    }
   ],
   "source": [
    "#6) Crear un programa que pida al usuario un número e imprima por pantalla la tabla de multiplicar de dicho número.\n",
    "\n",
    "numero = int(input(\"Ingrese un número: \"))\n",
    "\n",
    "print(f\"\\nTabla de multiplicar del {numero}:\\n\")\n",
    "for i in range(1, 11):\n",
    "    resultado = numero * i\n",
    "    print(f\"{numero} x {i} = {resultado}\")\n"
   ]
  },
  {
   "cell_type": "code",
   "execution_count": 3,
   "id": "0f3844ea",
   "metadata": {},
   "outputs": [
    {
     "name": "stdout",
     "output_type": "stream",
     "text": [
      "Suma: 5\n",
      "Resta: -1\n",
      "Multiplicación: 6\n",
      "División: 0.6666666666666666\n"
     ]
    }
   ],
   "source": [
    "#7) Crear un programa que pida al usuario dos números enteros distintos del 0 y muestre por pantalla el resultado de sumarlos, dividirlos, multiplicarlos y restarlos\n",
    "\n",
    "num1 = int(input(\"Ingrese el primer número (distinto de 0): \"))\n",
    "num2 = int(input(\"Ingrese el segundo número (distinto de 0): \"))\n",
    "\n",
    "if num1 == 0 or num2 == 0:\n",
    "    print(\"Error: ambos números deben ser distintos de 0.\")\n",
    "else:\n",
    "    suma = num1 + num2\n",
    "    resta = num1 - num2\n",
    "    multiplicacion = num1 * num2\n",
    "    division = num1 / num2\n",
    "\n",
    "print(f\"Suma: {suma}\")\n",
    "print(f\"Resta: {resta}\")\n",
    "print(f\"Multiplicación: {multiplicacion}\")\n",
    "print(f\"División: {division}\")"
   ]
  },
  {
   "cell_type": "code",
   "execution_count": 10,
   "id": "2793bdc6",
   "metadata": {},
   "outputs": [
    {
     "name": "stdout",
     "output_type": "stream",
     "text": [
      "Su índice de masa corporal (IMC) es: 0.0019151584793641674\n"
     ]
    }
   ],
   "source": [
    "#8) Crear un programa que pida al usuario su altura y su peso e imprima por pantalla su índice de masa corporal.\n",
    "\n",
    "peso = float(input(\"Ingrese su peso en kilogramos (kg): \"))\n",
    "altura = float(input(\"Ingrese su altura en metros (m): \"))\n",
    "\n",
    "imc = peso / (altura ** 2)\n",
    "print(f\"Su índice de masa corporal (IMC) es: {imc}\")"
   ]
  },
  {
   "cell_type": "code",
   "execution_count": 11,
   "id": "eba6a80c",
   "metadata": {},
   "outputs": [
    {
     "name": "stdout",
     "output_type": "stream",
     "text": [
      "28.0°C equivalen a 82.4°F\n"
     ]
    }
   ],
   "source": [
    "#9) Crear un programa que pida al usuario una temperatura en grados Celsius e imprima por pantalla su equivalente en grados Fahrenheit.\n",
    "\n",
    "celsius = float(input(\"Ingrese la temperatura en grados Celsius: \"))\n",
    "fahrenheit = (celsius * 9/5) + 32\n",
    "print(f\"{celsius}°C equivalen a {fahrenheit}°F\")\n"
   ]
  },
  {
   "cell_type": "code",
   "execution_count": 9,
   "id": "c962a6f6",
   "metadata": {},
   "outputs": [
    {
     "name": "stdout",
     "output_type": "stream",
     "text": [
      "El promedio es: 2.3333333333333335.\n"
     ]
    }
   ],
   "source": [
    "#10) Crear un programa que pida al usuario 3 números e imprima por pantalla el promedio de dichos números.\n",
    "\n",
    "num1= int(input(\"Ingrese un número: \"))\n",
    "num2= int(input(\"Ingrese un segundo número: \"))\n",
    "num3= int(input(\"Ingrese un tercer número: \"))\n",
    "           \n",
    "promedio = (num1+num2+num3)/3\n",
    "print (f\"El promedio es: {promedio}.\")"
   ]
  }
 ],
 "metadata": {
  "kernelspec": {
   "display_name": "Python 3",
   "language": "python",
   "name": "python3"
  },
  "language_info": {
   "codemirror_mode": {
    "name": "ipython",
    "version": 3
   },
   "file_extension": ".py",
   "mimetype": "text/x-python",
   "name": "python",
   "nbconvert_exporter": "python",
   "pygments_lexer": "ipython3",
   "version": "3.13.3"
  }
 },
 "nbformat": 4,
 "nbformat_minor": 5
}
