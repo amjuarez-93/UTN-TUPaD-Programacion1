{
 "cells": [
  {
   "cell_type": "code",
   "execution_count": 1,
   "id": "ef3a338a",
   "metadata": {},
   "outputs": [
    {
     "name": "stdout",
     "output_type": "stream",
     "text": [
      "Lista de notas: [7.5, 8.0, 9.2, 6.5, 7.0, 8.8, 9.5, 6.0, 7.9, 8.3]\n",
      "Promedio: 7.87\n",
      "Nota más alta: 9.5\n",
      "Nota más baja: 6.0\n"
     ]
    }
   ],
   "source": [
    "# 1) Lista con notas de 10 estudiantes, calcular promedio, nota más alta y más baja\n",
    "\n",
    "notas = [7.5, 8.0, 9.2, 6.5, 7.0, 8.8, 9.5, 6.0, 7.9, 8.3]\n",
    "print(\"Lista de notas:\", notas)\n",
    "promedio = sum(notas) / len(notas)\n",
    "print(f\"Promedio: {promedio:.2f}\")\n",
    "nota_max = max(notas)\n",
    "nota_min = min(notas)\n",
    "print(f\"Nota más alta: {nota_max}\")\n",
    "print(f\"Nota más baja: {nota_min}\")\n",
    "\n"
   ]
  },
  {
   "cell_type": "code",
   "execution_count": 2,
   "id": "876c8189",
   "metadata": {},
   "outputs": [
    {
     "name": "stdout",
     "output_type": "stream",
     "text": [
      "Lista original: ['bolsa', 'llave', 'vaso', 'mesa', 'silla']\n",
      "Lista ordenada: ['bolsa', 'llave', 'mesa', 'silla', 'vaso']\n",
      "Lista actualizada: ['bolsa', 'llave', 'vaso', 'mesa']\n"
     ]
    }
   ],
   "source": [
    "# 2) Pedir 5 productos, mostrar lista ordenada y eliminar producto indicado por usuario\n",
    "\n",
    "productos = []\n",
    "for _ in range(5):\n",
    "    producto = input(\"Ingrese el nombre de un producto: \")\n",
    "    productos.append(producto)\n",
    "print(\"Lista original:\", productos)\n",
    "productos_ordenados = sorted(productos)\n",
    "print(\"Lista ordenada:\", productos_ordenados)\n",
    "producto_eliminar = input(\"¿Qué producto desea eliminar? \")\n",
    "if producto_eliminar in productos:\n",
    "    productos.remove(producto_eliminar)\n",
    "    print(\"Lista actualizada:\", productos)\n",
    "else:\n",
    "    print(\"Producto no encontrado en la lista.\")\n"
   ]
  },
  {
   "cell_type": "code",
   "execution_count": 3,
   "id": "9ba658f0",
   "metadata": {},
   "outputs": [
    {
     "name": "stdout",
     "output_type": "stream",
     "text": [
      "Lista completa: [79, 64, 35, 76, 74, 44, 37, 52, 54, 93, 5, 30, 54, 16, 88]\n",
      "Lista de pares: [64, 76, 74, 44, 52, 54, 30, 54, 16, 88]\n",
      "Cantidad de pares: 10\n",
      "Lista de impares: [79, 35, 37, 93, 5]\n",
      "Cantidad de impares: 5\n"
     ]
    }
   ],
   "source": [
    "# 3) Generar lista de 15 números aleatorios, separar pares e impares, mostrar cantidades\n",
    "\n",
    "import random\n",
    "numeros = [random.randint(1, 100) for _ in range(15)]\n",
    "print(\"Lista completa:\", numeros)\n",
    "pares = [n for n in numeros if n % 2 == 0]\n",
    "impares = [n for n in numeros if n % 2 != 0]\n",
    "print(\"Lista de pares:\", pares)\n",
    "print(\"Cantidad de pares:\", len(pares))\n",
    "print(\"Lista de impares:\", impares)\n",
    "print(\"Cantidad de impares:\", len(impares))\n"
   ]
  },
  {
   "cell_type": "code",
   "execution_count": 4,
   "id": "e6efd06f",
   "metadata": {},
   "outputs": [
    {
     "name": "stdout",
     "output_type": "stream",
     "text": [
      "Lista sin repetidos: [1, 2, 3, 4, 5, 6, 7]\n"
     ]
    }
   ],
   "source": [
    "# 4) Crear una nueva lista sin elementos repetidos a partir de lista con repetidos\n",
    "\n",
    "lista_repetidos = [1, 2, 2, 3, 4, 4, 5, 1, 6, 7, 7]\n",
    "lista_sin_repetidos = []\n",
    "for elem in lista_repetidos:\n",
    "    if elem not in lista_sin_repetidos:\n",
    "        lista_sin_repetidos.append(elem)\n",
    "print(\"Lista sin repetidos:\", lista_sin_repetidos)\n"
   ]
  },
  {
   "cell_type": "code",
   "execution_count": 5,
   "id": "863f9e85",
   "metadata": {},
   "outputs": [
    {
     "name": "stdout",
     "output_type": "stream",
     "text": [
      "Acción no válida.\n",
      "Lista final de estudiantes: ['Ana', 'Luis', 'María', 'Carlos', 'Sofía', 'Jorge', 'Marta', 'Pedro']\n"
     ]
    }
   ],
   "source": [
    "# 5) Lista con 8 estudiantes, agregar o eliminar según decisión del usuario\n",
    "\n",
    "estudiantes = [\"Ana\", \"Luis\", \"María\", \"Carlos\", \"Sofía\", \"Jorge\", \"Marta\", \"Pedro\"]\n",
    "accion = input(\"¿Desea agregar o eliminar un estudiante? (agregar/eliminar): \").lower()\n",
    "if accion == \"agregar\":\n",
    "    nuevo = input(\"Ingrese el nombre del nuevo estudiante: \")\n",
    "    estudiantes.append(nuevo)\n",
    "elif accion == \"eliminar\":\n",
    "    eliminar = input(\"Ingrese el nombre del estudiante a eliminar: \")\n",
    "    if eliminar in estudiantes:\n",
    "        estudiantes.remove(eliminar)\n",
    "    else:\n",
    "        print(\"El estudiante no está en la lista.\")\n",
    "else:\n",
    "    print(\"Acción no válida.\")\n",
    "print(\"Lista final de estudiantes:\", estudiantes)\n"
   ]
  },
  {
   "cell_type": "code",
   "execution_count": 6,
   "id": "55493860",
   "metadata": {},
   "outputs": [
    {
     "name": "stdout",
     "output_type": "stream",
     "text": [
      "Lista rotada: [7, 1, 2, 3, 4, 5, 6]\n"
     ]
    }
   ],
   "source": [
    "# 6) Rotar una lista de 7 números una posición a la derecha\n",
    "\n",
    "numeros = [1, 2, 3, 4, 5, 6, 7]\n",
    "ultimo = numeros.pop()\n",
    "numeros.insert(0, ultimo)\n",
    "print(\"Lista rotada:\", numeros)\n"
   ]
  },
  {
   "cell_type": "code",
   "execution_count": 7,
   "id": "afdd1fe1",
   "metadata": {},
   "outputs": [
    {
     "name": "stdout",
     "output_type": "stream",
     "text": [
      "Promedio mínimas: 12.43\n",
      "Promedio máximas: 25.00\n",
      "Día con mayor amplitud térmica: Día 1 con amplitud 13\n"
     ]
    }
   ],
   "source": [
    "# 7) Matriz 7x2 con temperaturas mínimas y máximas, calcular promedios y día con mayor amplitud\n",
    "\n",
    "temperaturas = [\n",
    "    [12, 25],\n",
    "    [14, 27],\n",
    "    [11, 24],\n",
    "    [13, 26],\n",
    "    [15, 28],\n",
    "    [10, 23],\n",
    "    [12, 22]\n",
    "]\n",
    "minimas = [temp[0] for temp in temperaturas]\n",
    "maximas = [temp[1] for temp in temperaturas]\n",
    "prom_min = sum(minimas) / len(minimas)\n",
    "prom_max = sum(maximas) / len(maximas)\n",
    "print(f\"Promedio mínimas: {prom_min:.2f}\")\n",
    "print(f\"Promedio máximas: {prom_max:.2f}\")\n",
    "amplitudes = [maximas[i] - minimas[i] for i in range(len(temperaturas))]\n",
    "max_amplitud = max(amplitudes)\n",
    "dia_max = amplitudes.index(max_amplitud) + 1\n",
    "print(f\"Día con mayor amplitud térmica: Día {dia_max} con amplitud {max_amplitud}\")\n"
   ]
  },
  {
   "cell_type": "code",
   "execution_count": 9,
   "id": "d5d544eb",
   "metadata": {},
   "outputs": [
    {
     "name": "stdout",
     "output_type": "stream",
     "text": [
      "Promedio estudiante 1: 8.00\n",
      "Promedio estudiante 2: 7.33\n",
      "Promedio estudiante 3: 7.67\n",
      "Promedio estudiante 4: 7.33\n",
      "Promedio estudiante 5: 8.33\n",
      "Promedio materia 1: 7.60\n",
      "Promedio materia 2: 7.60\n",
      "Promedio materia 3: 8.00\n"
     ]
    }
   ],
   "source": [
    "# 8) Matriz notas de 5 estudiantes en 3 materias, mostrar promedio por estudiante y por materia\n",
    "\n",
    "notas = [\n",
    "    [8, 7, 9],\n",
    "    [6, 9, 7],\n",
    "    [7, 8, 8],\n",
    "    [9, 6, 7],\n",
    "    [8, 8, 9]\n",
    "]\n",
    "for i, estudiante in enumerate(notas, 1):\n",
    "    promedio = sum(estudiante) / len(estudiante)\n",
    "    print(f\"Promedio estudiante {i}: {promedio:.2f}\")\n",
    "for j in range(3):\n",
    "    materia = [notas[i][j] for i in range(5)]\n",
    "    promedio_materia = sum(materia) / len(materia)\n",
    "    print(f\"Promedio materia {j+1}: {promedio_materia:.2f}\")\n"
   ]
  },
  {
   "cell_type": "code",
   "execution_count": 10,
   "id": "035ae32f",
   "metadata": {},
   "outputs": [
    {
     "name": "stdout",
     "output_type": "stream",
     "text": [
      "- - -\n",
      "- - -\n",
      "- - -\n",
      "\n",
      "- - X\n",
      "- - -\n",
      "- - -\n",
      "\n",
      "- - X\n",
      "- - O\n",
      "- - -\n",
      "\n",
      "- X X\n",
      "- - O\n",
      "- - -\n",
      "\n",
      "- X X\n",
      "- - O\n",
      "O - -\n",
      "\n"
     ]
    },
    {
     "ename": "ValueError",
     "evalue": "invalid literal for int() with base 10: ''",
     "output_type": "error",
     "traceback": [
      "\u001b[31m---------------------------------------------------------------------------\u001b[39m",
      "\u001b[31mValueError\u001b[39m                                Traceback (most recent call last)",
      "\u001b[36mCell\u001b[39m\u001b[36m \u001b[39m\u001b[32mIn[10]\u001b[39m\u001b[32m, line 12\u001b[39m\n\u001b[32m     10\u001b[39m \u001b[38;5;28;01mfor\u001b[39;00m _ \u001b[38;5;129;01min\u001b[39;00m \u001b[38;5;28mrange\u001b[39m(\u001b[32m9\u001b[39m):\n\u001b[32m     11\u001b[39m     fila = \u001b[38;5;28mint\u001b[39m(\u001b[38;5;28minput\u001b[39m(\u001b[33mf\u001b[39m\u001b[33m\"\u001b[39m\u001b[33mJugador \u001b[39m\u001b[38;5;132;01m{\u001b[39;00mturno\u001b[38;5;132;01m}\u001b[39;00m\u001b[33m, ingrese fila (0-2): \u001b[39m\u001b[33m\"\u001b[39m))\n\u001b[32m---> \u001b[39m\u001b[32m12\u001b[39m     columna = \u001b[38;5;28;43mint\u001b[39;49m\u001b[43m(\u001b[49m\u001b[38;5;28;43minput\u001b[39;49m\u001b[43m(\u001b[49m\u001b[33;43mf\u001b[39;49m\u001b[33;43m\"\u001b[39;49m\u001b[33;43mJugador \u001b[39;49m\u001b[38;5;132;43;01m{\u001b[39;49;00m\u001b[43mturno\u001b[49m\u001b[38;5;132;43;01m}\u001b[39;49;00m\u001b[33;43m, ingrese columna (0-2): \u001b[39;49m\u001b[33;43m\"\u001b[39;49m\u001b[43m)\u001b[49m\u001b[43m)\u001b[49m\n\u001b[32m     13\u001b[39m     \u001b[38;5;28;01mif\u001b[39;00m tablero[fila][columna] == \u001b[33m\"\u001b[39m\u001b[33m-\u001b[39m\u001b[33m\"\u001b[39m:\n\u001b[32m     14\u001b[39m         tablero[fila][columna] = turno\n",
      "\u001b[31mValueError\u001b[39m: invalid literal for int() with base 10: ''"
     ]
    }
   ],
   "source": [
    "# 9) Tablero Ta-Te-Ti 3x3, dos jugadores ingresan posiciones para colocar \"X\" y \"O\"\n",
    "\n",
    "tablero = [[\"-\" for _ in range(3)] for _ in range(3)]\n",
    "def mostrar_tablero(tablero):\n",
    "    for fila in tablero:\n",
    "        print(\" \".join(fila))\n",
    "    print()\n",
    "mostrar_tablero(tablero)\n",
    "turno = \"X\"\n",
    "for _ in range(9):\n",
    "    fila = int(input(f\"Jugador {turno}, ingrese fila (0-2): \"))\n",
    "    columna = int(input(f\"Jugador {turno}, ingrese columna (0-2): \"))\n",
    "    if tablero[fila][columna] == \"-\":\n",
    "        tablero[fila][columna] = turno\n",
    "        mostrar_tablero(tablero)\n",
    "        turno = \"O\" if turno == \"X\" else \"X\"\n",
    "    else:\n",
    "        print(\"Casilla ocupada, elija otra posición.\")\n"
   ]
  },
  {
   "cell_type": "code",
   "execution_count": 11,
   "id": "16bd8960",
   "metadata": {},
   "outputs": [
    {
     "name": "stdout",
     "output_type": "stream",
     "text": [
      "Total vendido producto 1: 80\n",
      "Total vendido producto 2: 64\n",
      "Total vendido producto 3: 102\n",
      "Total vendido producto 4: 44\n",
      "Día con mayores ventas totales: Día 6\n",
      "Producto más vendido en la semana: Producto 3\n"
     ]
    }
   ],
   "source": [
    "# 10) Matriz 4x7 con ventas de productos, mostrar total por producto, día con más ventas y producto más vendido\n",
    "\n",
    "ventas = [\n",
    "    [10, 12, 11, 9, 10, 15, 13],\n",
    "    [8, 7, 10, 9, 12, 10, 8],\n",
    "    [15, 14, 13, 16, 15, 14, 15],\n",
    "    [5, 7, 6, 8, 5, 6, 7]\n",
    "]\n",
    "for i, producto in enumerate(ventas, 1):\n",
    "    total_producto = sum(producto)\n",
    "    print(f\"Total vendido producto {i}: {total_producto}\")\n",
    "ventas_por_dia = [sum(ventas[j][i] for j in range(4)) for i in range(7)]\n",
    "dia_max_ventas = ventas_por_dia.index(max(ventas_por_dia)) + 1\n",
    "print(f\"Día con mayores ventas totales: Día {dia_max_ventas}\")\n",
    "totales_productos = [sum(producto) for producto in ventas]\n",
    "producto_mas_vendido = totales_productos.index(max(totales_productos)) + 1\n",
    "print(f\"Producto más vendido en la semana: Producto {producto_mas_vendido}\")\n"
   ]
  }
 ],
 "metadata": {
  "kernelspec": {
   "display_name": "Python 3",
   "language": "python",
   "name": "python3"
  },
  "language_info": {
   "codemirror_mode": {
    "name": "ipython",
    "version": 3
   },
   "file_extension": ".py",
   "mimetype": "text/x-python",
   "name": "python",
   "nbconvert_exporter": "python",
   "pygments_lexer": "ipython3",
   "version": "3.13.3"
  }
 },
 "nbformat": 4,
 "nbformat_minor": 5
}
