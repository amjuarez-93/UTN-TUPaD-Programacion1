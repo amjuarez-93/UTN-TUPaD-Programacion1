{
 "cells": [
  {
   "cell_type": "code",
   "execution_count": 1,
   "id": "fb794418",
   "metadata": {},
   "outputs": [
    {
     "name": "stdout",
     "output_type": "stream",
     "text": [
      "Ejercicio 1:\n",
      "0\n",
      "1\n",
      "2\n",
      "3\n",
      "4\n",
      "5\n",
      "6\n",
      "7\n",
      "8\n",
      "9\n",
      "10\n",
      "11\n",
      "12\n",
      "13\n",
      "14\n",
      "15\n",
      "16\n",
      "17\n",
      "18\n",
      "19\n",
      "20\n",
      "21\n",
      "22\n",
      "23\n",
      "24\n",
      "25\n",
      "26\n",
      "27\n",
      "28\n",
      "29\n",
      "30\n",
      "31\n",
      "32\n",
      "33\n",
      "34\n",
      "35\n",
      "36\n",
      "37\n",
      "38\n",
      "39\n",
      "40\n",
      "41\n",
      "42\n",
      "43\n",
      "44\n",
      "45\n",
      "46\n",
      "47\n",
      "48\n",
      "49\n",
      "50\n",
      "51\n",
      "52\n",
      "53\n",
      "54\n",
      "55\n",
      "56\n",
      "57\n",
      "58\n",
      "59\n",
      "60\n",
      "61\n",
      "62\n",
      "63\n",
      "64\n",
      "65\n",
      "66\n",
      "67\n",
      "68\n",
      "69\n",
      "70\n",
      "71\n",
      "72\n",
      "73\n",
      "74\n",
      "75\n",
      "76\n",
      "77\n",
      "78\n",
      "79\n",
      "80\n",
      "81\n",
      "82\n",
      "83\n",
      "84\n",
      "85\n",
      "86\n",
      "87\n",
      "88\n",
      "89\n",
      "90\n",
      "91\n",
      "92\n",
      "93\n",
      "94\n",
      "95\n",
      "96\n",
      "97\n",
      "98\n",
      "99\n",
      "100\n"
     ]
    }
   ],
   "source": [
    "# 1) Imprimir los números del 0 al 100\n",
    "\n",
    "print(\"Ejercicio 1:\")\n",
    "for i in range(101):\n",
    "    print(i)\n"
   ]
  },
  {
   "cell_type": "code",
   "execution_count": 2,
   "id": "a06e50cb",
   "metadata": {},
   "outputs": [
    {
     "name": "stdout",
     "output_type": "stream",
     "text": [
      "\n",
      "Ejercicio 2:\n",
      "Cantidad de dígitos: 1\n"
     ]
    }
   ],
   "source": [
    "# 2) Contar la cantidad de dígitos de un número\n",
    "\n",
    "print(\"\\nEjercicio 2:\")\n",
    "numero = input(\"Ingrese un número entero: \")\n",
    "print(\"Cantidad de dígitos:\", len(numero.strip(\"-\")))"
   ]
  },
  {
   "cell_type": "code",
   "execution_count": 3,
   "id": "e2dfae75",
   "metadata": {},
   "outputs": [
    {
     "name": "stdout",
     "output_type": "stream",
     "text": [
      "\n",
      "Ejercicio 3:\n",
      "Suma entre los números (excluidos): 0\n"
     ]
    }
   ],
   "source": [
    "# 3) Sumar números entre dos valores, excluyéndolos\n",
    "\n",
    "print(\"\\nEjercicio 3:\")\n",
    "inicio = int(input(\"Ingrese el primer número: \"))\n",
    "fin = int(input(\"Ingrese el segundo número: \"))\n",
    "suma = 0\n",
    "for i in range(min(inicio, fin) + 1, max(inicio, fin)):\n",
    "    suma += i\n",
    "print(\"Suma entre los números (excluidos):\", suma)"
   ]
  },
  {
   "cell_type": "code",
   "execution_count": 4,
   "id": "48b71d76",
   "metadata": {},
   "outputs": [
    {
     "name": "stdout",
     "output_type": "stream",
     "text": [
      "\n",
      "Ejercicio 4:\n",
      "Suma total: 12\n"
     ]
    }
   ],
   "source": [
    "# 4) Sumar números ingresados por el usuario hasta que ingrese 0\n",
    "\n",
    "print(\"\\nEjercicio 4:\")\n",
    "total = 0\n",
    "while True:\n",
    "    n = int(input(\"Ingrese un número (0 para terminar): \"))\n",
    "    if n == 0:\n",
    "        break\n",
    "    total += n\n",
    "print(\"Suma total:\", total)"
   ]
  },
  {
   "cell_type": "code",
   "execution_count": 6,
   "id": "25b0eab7",
   "metadata": {},
   "outputs": [
    {
     "name": "stdout",
     "output_type": "stream",
     "text": [
      "\n",
      "Ejercicio 5:\n",
      "¡Correcto! Lo adivinaste en 5 intento(s).\n"
     ]
    }
   ],
   "source": [
    "# 5) Juego para adivinar un número aleatorio entre 0 y 9\n",
    "\n",
    "print(\"\\nEjercicio 5:\")\n",
    "import random\n",
    "objetivo = random.randint(0, 9)\n",
    "intentos = 0\n",
    "while True:\n",
    "    adivina = int(input(\"Adivine el número (entre 0 y 9): \"))\n",
    "    intentos += 1\n",
    "    if adivina == objetivo:\n",
    "        print(f\"¡Correcto! Lo adivinaste en {intentos} intento(s).\")\n",
    "        break"
   ]
  },
  {
   "cell_type": "code",
   "execution_count": 9,
   "id": "fc3246f2",
   "metadata": {},
   "outputs": [
    {
     "name": "stdout",
     "output_type": "stream",
     "text": [
      "\n",
      "Ejercicio 6:\n",
      "100\n",
      "98\n",
      "96\n",
      "94\n",
      "92\n",
      "90\n",
      "88\n",
      "86\n",
      "84\n",
      "82\n",
      "80\n",
      "78\n",
      "76\n",
      "74\n",
      "72\n",
      "70\n",
      "68\n",
      "66\n",
      "64\n",
      "62\n",
      "60\n",
      "58\n",
      "56\n",
      "54\n",
      "52\n",
      "50\n",
      "48\n",
      "46\n",
      "44\n",
      "42\n",
      "40\n",
      "38\n",
      "36\n",
      "34\n",
      "32\n",
      "30\n",
      "28\n",
      "26\n",
      "24\n",
      "22\n",
      "20\n",
      "18\n",
      "16\n",
      "14\n",
      "12\n",
      "10\n",
      "8\n",
      "6\n",
      "4\n",
      "2\n",
      "0\n"
     ]
    }
   ],
   "source": [
    "# 6) Imprimir los números pares entre 0 y 100 en orden decreciente\n",
    "\n",
    "print(\"\\nEjercicio 6:\")\n",
    "for i in range(100, -1, -1):\n",
    "    if i % 2 == 0:\n",
    "        print(i)\n"
   ]
  },
  {
   "cell_type": "code",
   "execution_count": 10,
   "id": "7c2e7c4d",
   "metadata": {},
   "outputs": [
    {
     "name": "stdout",
     "output_type": "stream",
     "text": [
      "\n",
      "Ejercicio 7:\n",
      "La suma total es: 15\n"
     ]
    }
   ],
   "source": [
    "# 7) Sumar todos los números entre 0 y un número dado\n",
    "\n",
    "print(\"\\nEjercicio 7:\")\n",
    "limite = int(input(\"Ingrese un número entero positivo: \"))\n",
    "suma = 0\n",
    "for i in range(limite + 1):\n",
    "    suma += i\n",
    "print(\"La suma total es:\", suma)"
   ]
  },
  {
   "cell_type": "code",
   "execution_count": 11,
   "id": "b4618102",
   "metadata": {},
   "outputs": [
    {
     "name": "stdout",
     "output_type": "stream",
     "text": [
      "\n",
      "Ejercicio 8:\n"
     ]
    },
    {
     "ename": "ValueError",
     "evalue": "invalid literal for int() with base 10: ''",
     "output_type": "error",
     "traceback": [
      "\u001b[31m---------------------------------------------------------------------------\u001b[39m",
      "\u001b[31mValueError\u001b[39m                                Traceback (most recent call last)",
      "\u001b[36mCell\u001b[39m\u001b[36m \u001b[39m\u001b[32mIn[11]\u001b[39m\u001b[32m, line 7\u001b[39m\n\u001b[32m      5\u001b[39m cantidad = \u001b[32m100\u001b[39m  \u001b[38;5;66;03m# Cambiar este valor si se quiere probar con menos\u001b[39;00m\n\u001b[32m      6\u001b[39m \u001b[38;5;28;01mfor\u001b[39;00m i \u001b[38;5;129;01min\u001b[39;00m \u001b[38;5;28mrange\u001b[39m(cantidad):\n\u001b[32m----> \u001b[39m\u001b[32m7\u001b[39m     n = \u001b[38;5;28;43mint\u001b[39;49m\u001b[43m(\u001b[49m\u001b[38;5;28;43minput\u001b[39;49m\u001b[43m(\u001b[49m\u001b[33;43mf\u001b[39;49m\u001b[33;43m\"\u001b[39;49m\u001b[33;43mIngrese el número \u001b[39;49m\u001b[38;5;132;43;01m{\u001b[39;49;00m\u001b[43mi\u001b[49m\u001b[43m+\u001b[49m\u001b[32;43m1\u001b[39;49m\u001b[38;5;132;43;01m}\u001b[39;49;00m\u001b[33;43m: \u001b[39;49m\u001b[33;43m\"\u001b[39;49m\u001b[43m)\u001b[49m\u001b[43m)\u001b[49m\n\u001b[32m      8\u001b[39m     \u001b[38;5;28;01mif\u001b[39;00m n % \u001b[32m2\u001b[39m == \u001b[32m0\u001b[39m:\n\u001b[32m      9\u001b[39m         pares += \u001b[32m1\u001b[39m\n",
      "\u001b[31mValueError\u001b[39m: invalid literal for int() with base 10: ''"
     ]
    }
   ],
   "source": [
    "# 8) Contar pares, impares, positivos y negativos en 100 números\n",
    "\n",
    "print(\"\\nEjercicio 8:\")\n",
    "pares = impares = positivos = negativos = 0\n",
    "cantidad = 100  # Cambiar este valor si se quiere probar con menos\n",
    "for i in range(cantidad):\n",
    "    n = int(input(f\"Ingrese el número {i+1}: \"))\n",
    "    if n % 2 == 0:\n",
    "        pares += 1\n",
    "    else:\n",
    "        impares += 1\n",
    "    if n > 0:\n",
    "        positivos += 1\n",
    "    elif n < 0:\n",
    "        negativos += 1\n",
    "print(\"Pares:\", pares)\n",
    "print(\"Impares:\", impares)\n",
    "print(\"Positivos:\", positivos)\n",
    "print(\"Negativos:\", negativos)"
   ]
  },
  {
   "cell_type": "code",
   "execution_count": 12,
   "id": "938e3dee",
   "metadata": {},
   "outputs": [
    {
     "name": "stdout",
     "output_type": "stream",
     "text": [
      "\n",
      "Ejercicio 9:\n"
     ]
    },
    {
     "ename": "ValueError",
     "evalue": "invalid literal for int() with base 10: ''",
     "output_type": "error",
     "traceback": [
      "\u001b[31m---------------------------------------------------------------------------\u001b[39m",
      "\u001b[31mValueError\u001b[39m                                Traceback (most recent call last)",
      "\u001b[36mCell\u001b[39m\u001b[36m \u001b[39m\u001b[32mIn[12]\u001b[39m\u001b[32m, line 7\u001b[39m\n\u001b[32m      5\u001b[39m cantidad = \u001b[32m100\u001b[39m  \u001b[38;5;66;03m# Cambiar para pruebas si se desea\u001b[39;00m\n\u001b[32m      6\u001b[39m \u001b[38;5;28;01mfor\u001b[39;00m i \u001b[38;5;129;01min\u001b[39;00m \u001b[38;5;28mrange\u001b[39m(cantidad):\n\u001b[32m----> \u001b[39m\u001b[32m7\u001b[39m     n = \u001b[38;5;28;43mint\u001b[39;49m\u001b[43m(\u001b[49m\u001b[38;5;28;43minput\u001b[39;49m\u001b[43m(\u001b[49m\u001b[33;43mf\u001b[39;49m\u001b[33;43m\"\u001b[39;49m\u001b[33;43mIngrese el número \u001b[39;49m\u001b[38;5;132;43;01m{\u001b[39;49;00m\u001b[43mi\u001b[49m\u001b[43m+\u001b[49m\u001b[32;43m1\u001b[39;49m\u001b[38;5;132;43;01m}\u001b[39;49;00m\u001b[33;43m: \u001b[39;49m\u001b[33;43m\"\u001b[39;49m\u001b[43m)\u001b[49m\u001b[43m)\u001b[49m\n\u001b[32m      8\u001b[39m     suma += n\n\u001b[32m      9\u001b[39m media = suma / cantidad\n",
      "\u001b[31mValueError\u001b[39m: invalid literal for int() with base 10: ''"
     ]
    }
   ],
   "source": [
    "# 9) Calcular la media de 100 números\n",
    "\n",
    "print(\"\\nEjercicio 9:\")\n",
    "suma = 0\n",
    "cantidad = 100  # Cambiar para pruebas si se desea\n",
    "for i in range(cantidad):\n",
    "    n = int(input(f\"Ingrese el número {i+1}: \"))\n",
    "    suma += n\n",
    "media = suma / cantidad\n",
    "print(\"Media de los números:\", media)"
   ]
  },
  {
   "cell_type": "code",
   "execution_count": 13,
   "id": "4176c465",
   "metadata": {},
   "outputs": [
    {
     "name": "stdout",
     "output_type": "stream",
     "text": [
      "\n",
      "Ejercicio 10:\n",
      "Número invertido: 21\n"
     ]
    }
   ],
   "source": [
    "# 10) Invertir los dígitos de un número\n",
    "\n",
    "print(\"\\nEjercicio 10:\")\n",
    "numero = input(\"Ingrese un número para invertir: \")\n",
    "invertido = numero[::-1]\n",
    "print(\"Número invertido:\", invertido)"
   ]
  }
 ],
 "metadata": {
  "kernelspec": {
   "display_name": "Python 3",
   "language": "python",
   "name": "python3"
  },
  "language_info": {
   "codemirror_mode": {
    "name": "ipython",
    "version": 3
   },
   "file_extension": ".py",
   "mimetype": "text/x-python",
   "name": "python",
   "nbconvert_exporter": "python",
   "pygments_lexer": "ipython3",
   "version": "3.13.3"
  }
 },
 "nbformat": 4,
 "nbformat_minor": 5
}
